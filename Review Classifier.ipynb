{
 "cells": [
  {
   "cell_type": "code",
   "execution_count": 2,
   "id": "626a3078",
   "metadata": {},
   "outputs": [],
   "source": [
    "import pandas as pd\n",
    "import numpy as np\n",
    "from sklearn.model_selection import train_test_split\n",
    "from sklearn.feature_extraction.text import CountVectorizer\n",
    "from sklearn.ensemble import RandomForestClassifier\n",
    "from sklearn.neighbors import KNeighborsClassifier\n",
    "from sklearn.naive_bayes import MultinomialNB\n",
    "from sklearn.pipeline import Pipeline\n",
    "from sklearn.metrics import classification_report"
   ]
  },
  {
   "cell_type": "code",
   "execution_count": 4,
   "id": "804d82a3",
   "metadata": {},
   "outputs": [
    {
     "name": "stdout",
     "output_type": "stream",
     "text": [
      "(50000, 2)\n"
     ]
    },
    {
     "data": {
      "text/html": [
       "<div>\n",
       "<style scoped>\n",
       "    .dataframe tbody tr th:only-of-type {\n",
       "        vertical-align: middle;\n",
       "    }\n",
       "\n",
       "    .dataframe tbody tr th {\n",
       "        vertical-align: top;\n",
       "    }\n",
       "\n",
       "    .dataframe thead th {\n",
       "        text-align: right;\n",
       "    }\n",
       "</style>\n",
       "<table border=\"1\" class=\"dataframe\">\n",
       "  <thead>\n",
       "    <tr style=\"text-align: right;\">\n",
       "      <th></th>\n",
       "      <th>review</th>\n",
       "      <th>sentiment</th>\n",
       "    </tr>\n",
       "  </thead>\n",
       "  <tbody>\n",
       "    <tr>\n",
       "      <th>0</th>\n",
       "      <td>One of the other reviewers has mentioned that ...</td>\n",
       "      <td>positive</td>\n",
       "    </tr>\n",
       "    <tr>\n",
       "      <th>1</th>\n",
       "      <td>A wonderful little production. &lt;br /&gt;&lt;br /&gt;The...</td>\n",
       "      <td>positive</td>\n",
       "    </tr>\n",
       "    <tr>\n",
       "      <th>2</th>\n",
       "      <td>I thought this was a wonderful way to spend ti...</td>\n",
       "      <td>positive</td>\n",
       "    </tr>\n",
       "    <tr>\n",
       "      <th>3</th>\n",
       "      <td>Basically there's a family where a little boy ...</td>\n",
       "      <td>negative</td>\n",
       "    </tr>\n",
       "    <tr>\n",
       "      <th>4</th>\n",
       "      <td>Petter Mattei's \"Love in the Time of Money\" is...</td>\n",
       "      <td>positive</td>\n",
       "    </tr>\n",
       "  </tbody>\n",
       "</table>\n",
       "</div>"
      ],
      "text/plain": [
       "                                              review sentiment\n",
       "0  One of the other reviewers has mentioned that ...  positive\n",
       "1  A wonderful little production. <br /><br />The...  positive\n",
       "2  I thought this was a wonderful way to spend ti...  positive\n",
       "3  Basically there's a family where a little boy ...  negative\n",
       "4  Petter Mattei's \"Love in the Time of Money\" is...  positive"
      ]
     },
     "execution_count": 4,
     "metadata": {},
     "output_type": "execute_result"
    }
   ],
   "source": [
    "data = pd.read_csv(\"IMDB Dataset.csv\")\n",
    "\n",
    "print(data.shape)\n",
    "data.head()"
   ]
  },
  {
   "cell_type": "code",
   "execution_count": 5,
   "id": "3c31af9d",
   "metadata": {},
   "outputs": [
    {
     "data": {
      "text/html": [
       "<div>\n",
       "<style scoped>\n",
       "    .dataframe tbody tr th:only-of-type {\n",
       "        vertical-align: middle;\n",
       "    }\n",
       "\n",
       "    .dataframe tbody tr th {\n",
       "        vertical-align: top;\n",
       "    }\n",
       "\n",
       "    .dataframe thead th {\n",
       "        text-align: right;\n",
       "    }\n",
       "</style>\n",
       "<table border=\"1\" class=\"dataframe\">\n",
       "  <thead>\n",
       "    <tr style=\"text-align: right;\">\n",
       "      <th></th>\n",
       "      <th>review</th>\n",
       "      <th>sentiment</th>\n",
       "      <th>Category</th>\n",
       "    </tr>\n",
       "  </thead>\n",
       "  <tbody>\n",
       "    <tr>\n",
       "      <th>0</th>\n",
       "      <td>One of the other reviewers has mentioned that ...</td>\n",
       "      <td>positive</td>\n",
       "      <td>1</td>\n",
       "    </tr>\n",
       "    <tr>\n",
       "      <th>1</th>\n",
       "      <td>A wonderful little production. &lt;br /&gt;&lt;br /&gt;The...</td>\n",
       "      <td>positive</td>\n",
       "      <td>1</td>\n",
       "    </tr>\n",
       "    <tr>\n",
       "      <th>2</th>\n",
       "      <td>I thought this was a wonderful way to spend ti...</td>\n",
       "      <td>positive</td>\n",
       "      <td>1</td>\n",
       "    </tr>\n",
       "    <tr>\n",
       "      <th>3</th>\n",
       "      <td>Basically there's a family where a little boy ...</td>\n",
       "      <td>negative</td>\n",
       "      <td>0</td>\n",
       "    </tr>\n",
       "    <tr>\n",
       "      <th>4</th>\n",
       "      <td>Petter Mattei's \"Love in the Time of Money\" is...</td>\n",
       "      <td>positive</td>\n",
       "      <td>1</td>\n",
       "    </tr>\n",
       "  </tbody>\n",
       "</table>\n",
       "</div>"
      ],
      "text/plain": [
       "                                              review sentiment  Category\n",
       "0  One of the other reviewers has mentioned that ...  positive         1\n",
       "1  A wonderful little production. <br /><br />The...  positive         1\n",
       "2  I thought this was a wonderful way to spend ti...  positive         1\n",
       "3  Basically there's a family where a little boy ...  negative         0\n",
       "4  Petter Mattei's \"Love in the Time of Money\" is...  positive         1"
      ]
     },
     "execution_count": 5,
     "metadata": {},
     "output_type": "execute_result"
    }
   ],
   "source": [
    "data['Category'] = data['sentiment'].apply(lambda x: 1 if x == 'positive' else 0  )\n",
    "\n",
    "data.head()"
   ]
  },
  {
   "cell_type": "code",
   "execution_count": 6,
   "id": "46af9964",
   "metadata": {},
   "outputs": [
    {
     "data": {
      "text/plain": [
       "1    25000\n",
       "0    25000\n",
       "Name: Category, dtype: int64"
      ]
     },
     "execution_count": 6,
     "metadata": {},
     "output_type": "execute_result"
    }
   ],
   "source": [
    "data.Category.value_counts()"
   ]
  },
  {
   "cell_type": "code",
   "execution_count": 7,
   "id": "108be193",
   "metadata": {},
   "outputs": [
    {
     "name": "stdout",
     "output_type": "stream",
     "text": [
      "(35000,)\n",
      "(15000,)\n",
      "(35000,)\n",
      "(15000,)\n"
     ]
    }
   ],
   "source": [
    "X_train, X_test, y_train, y_test = train_test_split(data['review'], data[\"Category\"], test_size=0.3)\n",
    "\n",
    "print(X_train.shape)\n",
    "print(X_test.shape)\n",
    "print(y_train.shape)\n",
    "print(y_test.shape)"
   ]
  },
  {
   "cell_type": "code",
   "execution_count": 9,
   "id": "52f80343",
   "metadata": {},
   "outputs": [],
   "source": [
    "model_1 = Pipeline([\n",
    "    ('vectorize', CountVectorizer()),\n",
    "    ('Naive-Bayes', RandomForestClassifier(n_estimators=50, criterion=\"entropy\"))\n",
    "])"
   ]
  },
  {
   "cell_type": "code",
   "execution_count": 12,
   "id": "63302720",
   "metadata": {},
   "outputs": [
    {
     "name": "stdout",
     "output_type": "stream",
     "text": [
      "              precision    recall  f1-score   support\n",
      "\n",
      "           0       0.84      0.84      0.84      7457\n",
      "           1       0.84      0.84      0.84      7543\n",
      "\n",
      "    accuracy                           0.84     15000\n",
      "   macro avg       0.84      0.84      0.84     15000\n",
      "weighted avg       0.84      0.84      0.84     15000\n",
      "\n"
     ]
    }
   ],
   "source": [
    "model_1.fit(X_train, y_train)\n",
    "\n",
    "y_pred = model_1.predict(X_test)\n",
    "\n",
    "print(classification_report(y_test, y_pred))"
   ]
  },
  {
   "cell_type": "code",
   "execution_count": 15,
   "id": "e17a6f04",
   "metadata": {},
   "outputs": [
    {
     "data": {
      "text/plain": [
       "array([0, 1], dtype=int64)"
      ]
     },
     "execution_count": 15,
     "metadata": {},
     "output_type": "execute_result"
    }
   ],
   "source": [
    "review = [\"Its actually hard to explain why this is so bad, not because its hard to find faults, more because there are so many.This tries to come off like a mix between Trainspotting and Human Traffic. Its supposed to be about different groups of kids who are all well into their 20s on a weekend, or possibly even one evening. The problem is that you don't care about anyone due to the bad writing. Nor does any of the so called edgy behaviour make any sense at any point. The tone of the film is incomprehensible. Is some of it supposed to be funny? Does it have a message? Is it a drama? Nobody knows and if you make it to the end you won't know either.Apparently this is supposed to be about clubbers, but the music is terrible. You can't even identify what type of music its supposed to so its very unlikely any of the music was actually produced by dance music producers. It sounds like demo music from a cheap synth of groovebox but not from a reputable manufacturer.To me it looks as if the director was trying to make an Araki movie, but fell well short. Its very surprising to see a couple of well known Australian actors in this. Why did they agree to be part of this? Kylie is billed as the main character, which is the obvious carrot to lure you in, but she is in fact a minor player. Was she top billed just because she is the biggest name? Then shame on her and the producers.This makes Housos look like the Godfather. Not just in terms of production but also the acting on show. Takes a real skill to make household names look this bad.Its on Amazon Prime, for free obviously but just remember, your time is precious.\",\n",
    "         \"I saw this movie based on its likeness to the movie Go, a movie which also didn't do remarkably but I still enjoy. This film deserves more credit than its received, both in box office revenue and reviews. Admittedly, the plot does have more than its share of conventions, and some of the events in the film are more than improbable. However, the characters, in their stereotypes, each serve well to represent a certain type of person that you might meet (and i have met) out in the Australian party scene. There's the way-freaky and a bit too open cross-dresser, the down to earth guy, the tripped out hippie girlfriend, the sought-after DJ girl, the really REALLY weird guy, and then you get into the Kylie Minogue storyline and admittedly, things take a turn for the worse. However, one of the greatest parts of the film itself is the style of cinematography shown. Some of the camera angles are a little raw, a little experimental, but more often than not does well to portray what's happening at the time. If you pick this movie up with an open mind and looking for a movie just to kick back and enjoy for a reasonably visceral but not all too insightful good time, than you should have no worries. If you're looking for something to change your life, I'd recommend something else, unless you're thinking of taking up DJing in Sydney.\"]\n",
    "\n",
    "model_1.predict(review)"
   ]
  },
  {
   "cell_type": "code",
   "execution_count": 26,
   "id": "eb71647b",
   "metadata": {},
   "outputs": [
    {
     "name": "stdout",
     "output_type": "stream",
     "text": [
      "Enter a review to see whether it is negative or positive:                 I saw this movie based on its likeness to the movie \"Go\", a movie which also didn't do remarkably but I still enjoy. This film deserves more credit than its received, both in box office revenue and reviews. Admittedly, the plot does have more than its share of conventions, and some of the events in the film are more than improbable. However, the characters, in their stereotypes, each serve well to represent a certain type of person that you might meet (and i have met) out in the Australian party scene. There's the way-freaky and a bit too open cross-dresser, the down to earth guy, the tripped out hippie girlfriend, the sought-after DJ girl, the really REALLY weird guy, and then you get into the Kylie Minogue storyline and admittedly, things take a turn for the worse. However, one of the greatest parts of the film itself is the style of cinematography shown. Some of the camera angles are a little raw, a little experimental, but more often than not does well to portray what's happening at the time. If you pick this movie up with an open mind and looking for a movie just to kick back and enjoy for a reasonably visceral but not all too insightful good time, than you should have no worries. If you're looking for something to change your life, I'd recommend something else, unless you're thinking of taking up DJing in Sydney.\n",
      "This is a positive review I'm sure of it :) \n"
     ]
    }
   ],
   "source": [
    "value = input(\"Enter a review to see whether it is negative or positive:                 \")\n",
    "\n",
    "val = model_1.predict([value])\n",
    "\n",
    "if val == 0:\n",
    "    print(\"This review is most likely a negative one. Sorry:(\")\n",
    "else:\n",
    "    print(\"This is a positive review I'm sure of it :) \")\n",
    "    "
   ]
  },
  {
   "cell_type": "code",
   "execution_count": null,
   "id": "3071e19a",
   "metadata": {},
   "outputs": [],
   "source": []
  }
 ],
 "metadata": {
  "kernelspec": {
   "display_name": "Python 3 (ipykernel)",
   "language": "python",
   "name": "python3"
  },
  "language_info": {
   "codemirror_mode": {
    "name": "ipython",
    "version": 3
   },
   "file_extension": ".py",
   "mimetype": "text/x-python",
   "name": "python",
   "nbconvert_exporter": "python",
   "pygments_lexer": "ipython3",
   "version": "3.9.13"
  }
 },
 "nbformat": 4,
 "nbformat_minor": 5
}
